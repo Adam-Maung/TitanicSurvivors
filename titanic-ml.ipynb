{
 "cells": [
  {
   "cell_type": "code",
   "execution_count": 1,
   "id": "c8716a4e",
   "metadata": {
    "_cell_guid": "b1076dfc-b9ad-4769-8c92-a6c4dae69d19",
    "_uuid": "8f2839f25d086af736a60e9eeb907d3b93b6e0e5",
    "execution": {
     "iopub.execute_input": "2025-03-24T20:34:37.079320Z",
     "iopub.status.busy": "2025-03-24T20:34:37.078968Z",
     "iopub.status.idle": "2025-03-24T20:34:49.802050Z",
     "shell.execute_reply": "2025-03-24T20:34:49.800912Z"
    },
    "papermill": {
     "duration": 12.728797,
     "end_time": "2025-03-24T20:34:49.803560",
     "exception": false,
     "start_time": "2025-03-24T20:34:37.074763",
     "status": "completed"
    },
    "tags": []
   },
   "outputs": [
    {
     "name": "stdout",
     "output_type": "stream",
     "text": [
      "\r\n",
      "\r\n",
      "\r\n",
      "Suggested packages:\r\n",
      "  gettext-base git-daemon-run | git-daemon-sysvinit git-doc git-email git-gui gitk gitweb git-cvs\r\n",
      "  git-mediawiki git-svn\r\n",
      "The following packages will be upgraded:\r\n",
      "  git\r\n",
      "1 upgraded, 0 newly installed, 0 to remove and 128 not upgraded.\r\n",
      "Need to get 3,165 kB of archives.\r\n",
      "After this operation, 4,096 B of additional disk space will be used.\r\n",
      "Get:1 http://archive.ubuntu.com/ubuntu jammy-updates/main amd64 git amd64 1:2.34.1-1ubuntu1.12 [3,165 kB]\r\n",
      "Fetched 3,165 kB in 1s (3,322 kB/s)\r\n",
      "(Reading database ... 127400 files and directories currently installed.)\r\n",
      "Preparing to unpack .../git_1%3a2.34.1-1ubuntu1.12_amd64.deb ...\r\n",
      "Unpacking git (1:2.34.1-1ubuntu1.12) over (1:2.34.1-1ubuntu1.11) ...\r\n",
      "Setting up git (1:2.34.1-1ubuntu1.12) ...\r\n",
      "/kaggle/input/titanic/train.csv\n",
      "/kaggle/input/titanic/test.csv\n",
      "/kaggle/input/titanic/gender_submission.csv\n",
      "/kaggle/input/notebook-titanicrf/titanic-ml.ipynb\n"
     ]
    }
   ],
   "source": [
    "# This Python 3 environment comes with many helpful analytics libraries installed\n",
    "# It is defined by the kaggle/python Docker image: https://github.com/kaggle/docker-python\n",
    "# For example, here's several helpful packages to load\n",
    "\n",
    "import numpy as np # linear algebra\n",
    "import pandas as pd # data processing, CSV file I/O (e.g. pd.read_csv)\n",
    "\n",
    "# Input data files are available in the read-only \"../input/\" directory\n",
    "# For example, running this (by clicking run or pressing Shift+Enter) will list all files under the input directory\n",
    "\n",
    "!apt-get install git -y\n",
    "#installs git\n",
    "\n",
    "\n",
    "\n",
    "\n",
    "\n",
    "import os\n",
    "for dirname, _, filenames in os.walk('/kaggle/input'):\n",
    "    for filename in filenames:\n",
    "        print(os.path.join(dirname, filename))\n",
    "\n",
    "# You can write up to 20GB to the current directory (/kaggle/working/) that gets preserved as output when you create a version using \"Save & Run All\" \n",
    "# You can also write temporary files to /kaggle/temp/, but they won't be saved outside of the current session\n",
    "\n",
    "\n"
   ]
  },
  {
   "cell_type": "code",
   "execution_count": 2,
   "id": "6b97de1e",
   "metadata": {
    "execution": {
     "iopub.execute_input": "2025-03-24T20:34:49.814706Z",
     "iopub.status.busy": "2025-03-24T20:34:49.813966Z",
     "iopub.status.idle": "2025-03-24T20:34:49.860537Z",
     "shell.execute_reply": "2025-03-24T20:34:49.859574Z"
    },
    "papermill": {
     "duration": 0.053769,
     "end_time": "2025-03-24T20:34:49.862279",
     "exception": false,
     "start_time": "2025-03-24T20:34:49.808510",
     "status": "completed"
    },
    "tags": []
   },
   "outputs": [
    {
     "data": {
      "text/html": [
       "<div>\n",
       "<style scoped>\n",
       "    .dataframe tbody tr th:only-of-type {\n",
       "        vertical-align: middle;\n",
       "    }\n",
       "\n",
       "    .dataframe tbody tr th {\n",
       "        vertical-align: top;\n",
       "    }\n",
       "\n",
       "    .dataframe thead th {\n",
       "        text-align: right;\n",
       "    }\n",
       "</style>\n",
       "<table border=\"1\" class=\"dataframe\">\n",
       "  <thead>\n",
       "    <tr style=\"text-align: right;\">\n",
       "      <th></th>\n",
       "      <th>PassengerId</th>\n",
       "      <th>Survived</th>\n",
       "      <th>Pclass</th>\n",
       "      <th>Name</th>\n",
       "      <th>Sex</th>\n",
       "      <th>Age</th>\n",
       "      <th>SibSp</th>\n",
       "      <th>Parch</th>\n",
       "      <th>Ticket</th>\n",
       "      <th>Fare</th>\n",
       "      <th>Cabin</th>\n",
       "      <th>Embarked</th>\n",
       "    </tr>\n",
       "  </thead>\n",
       "  <tbody>\n",
       "    <tr>\n",
       "      <th>0</th>\n",
       "      <td>1</td>\n",
       "      <td>0</td>\n",
       "      <td>3</td>\n",
       "      <td>Braund, Mr. Owen Harris</td>\n",
       "      <td>male</td>\n",
       "      <td>22.0</td>\n",
       "      <td>1</td>\n",
       "      <td>0</td>\n",
       "      <td>A/5 21171</td>\n",
       "      <td>7.2500</td>\n",
       "      <td>NaN</td>\n",
       "      <td>S</td>\n",
       "    </tr>\n",
       "    <tr>\n",
       "      <th>1</th>\n",
       "      <td>2</td>\n",
       "      <td>1</td>\n",
       "      <td>1</td>\n",
       "      <td>Cumings, Mrs. John Bradley (Florence Briggs Th...</td>\n",
       "      <td>female</td>\n",
       "      <td>38.0</td>\n",
       "      <td>1</td>\n",
       "      <td>0</td>\n",
       "      <td>PC 17599</td>\n",
       "      <td>71.2833</td>\n",
       "      <td>C85</td>\n",
       "      <td>C</td>\n",
       "    </tr>\n",
       "    <tr>\n",
       "      <th>2</th>\n",
       "      <td>3</td>\n",
       "      <td>1</td>\n",
       "      <td>3</td>\n",
       "      <td>Heikkinen, Miss. Laina</td>\n",
       "      <td>female</td>\n",
       "      <td>26.0</td>\n",
       "      <td>0</td>\n",
       "      <td>0</td>\n",
       "      <td>STON/O2. 3101282</td>\n",
       "      <td>7.9250</td>\n",
       "      <td>NaN</td>\n",
       "      <td>S</td>\n",
       "    </tr>\n",
       "    <tr>\n",
       "      <th>3</th>\n",
       "      <td>4</td>\n",
       "      <td>1</td>\n",
       "      <td>1</td>\n",
       "      <td>Futrelle, Mrs. Jacques Heath (Lily May Peel)</td>\n",
       "      <td>female</td>\n",
       "      <td>35.0</td>\n",
       "      <td>1</td>\n",
       "      <td>0</td>\n",
       "      <td>113803</td>\n",
       "      <td>53.1000</td>\n",
       "      <td>C123</td>\n",
       "      <td>S</td>\n",
       "    </tr>\n",
       "    <tr>\n",
       "      <th>4</th>\n",
       "      <td>5</td>\n",
       "      <td>0</td>\n",
       "      <td>3</td>\n",
       "      <td>Allen, Mr. William Henry</td>\n",
       "      <td>male</td>\n",
       "      <td>35.0</td>\n",
       "      <td>0</td>\n",
       "      <td>0</td>\n",
       "      <td>373450</td>\n",
       "      <td>8.0500</td>\n",
       "      <td>NaN</td>\n",
       "      <td>S</td>\n",
       "    </tr>\n",
       "  </tbody>\n",
       "</table>\n",
       "</div>"
      ],
      "text/plain": [
       "   PassengerId  Survived  Pclass  \\\n",
       "0            1         0       3   \n",
       "1            2         1       1   \n",
       "2            3         1       3   \n",
       "3            4         1       1   \n",
       "4            5         0       3   \n",
       "\n",
       "                                                Name     Sex   Age  SibSp  \\\n",
       "0                            Braund, Mr. Owen Harris    male  22.0      1   \n",
       "1  Cumings, Mrs. John Bradley (Florence Briggs Th...  female  38.0      1   \n",
       "2                             Heikkinen, Miss. Laina  female  26.0      0   \n",
       "3       Futrelle, Mrs. Jacques Heath (Lily May Peel)  female  35.0      1   \n",
       "4                           Allen, Mr. William Henry    male  35.0      0   \n",
       "\n",
       "   Parch            Ticket     Fare Cabin Embarked  \n",
       "0      0         A/5 21171   7.2500   NaN        S  \n",
       "1      0          PC 17599  71.2833   C85        C  \n",
       "2      0  STON/O2. 3101282   7.9250   NaN        S  \n",
       "3      0            113803  53.1000  C123        S  \n",
       "4      0            373450   8.0500   NaN        S  "
      ]
     },
     "execution_count": 2,
     "metadata": {},
     "output_type": "execute_result"
    }
   ],
   "source": [
    "dset_learn = pd.read_csv(\"/kaggle/input/titanic/train.csv\")\n",
    "dset_learn.head()"
   ]
  },
  {
   "cell_type": "code",
   "execution_count": 3,
   "id": "49e406db",
   "metadata": {
    "execution": {
     "iopub.execute_input": "2025-03-24T20:34:49.873324Z",
     "iopub.status.busy": "2025-03-24T20:34:49.873024Z",
     "iopub.status.idle": "2025-03-24T20:34:49.891922Z",
     "shell.execute_reply": "2025-03-24T20:34:49.890705Z"
    },
    "papermill": {
     "duration": 0.026246,
     "end_time": "2025-03-24T20:34:49.893468",
     "exception": false,
     "start_time": "2025-03-24T20:34:49.867222",
     "status": "completed"
    },
    "tags": []
   },
   "outputs": [
    {
     "data": {
      "text/html": [
       "<div>\n",
       "<style scoped>\n",
       "    .dataframe tbody tr th:only-of-type {\n",
       "        vertical-align: middle;\n",
       "    }\n",
       "\n",
       "    .dataframe tbody tr th {\n",
       "        vertical-align: top;\n",
       "    }\n",
       "\n",
       "    .dataframe thead th {\n",
       "        text-align: right;\n",
       "    }\n",
       "</style>\n",
       "<table border=\"1\" class=\"dataframe\">\n",
       "  <thead>\n",
       "    <tr style=\"text-align: right;\">\n",
       "      <th></th>\n",
       "      <th>PassengerId</th>\n",
       "      <th>Pclass</th>\n",
       "      <th>Name</th>\n",
       "      <th>Sex</th>\n",
       "      <th>Age</th>\n",
       "      <th>SibSp</th>\n",
       "      <th>Parch</th>\n",
       "      <th>Ticket</th>\n",
       "      <th>Fare</th>\n",
       "      <th>Cabin</th>\n",
       "      <th>Embarked</th>\n",
       "    </tr>\n",
       "  </thead>\n",
       "  <tbody>\n",
       "    <tr>\n",
       "      <th>0</th>\n",
       "      <td>892</td>\n",
       "      <td>3</td>\n",
       "      <td>Kelly, Mr. James</td>\n",
       "      <td>male</td>\n",
       "      <td>34.5</td>\n",
       "      <td>0</td>\n",
       "      <td>0</td>\n",
       "      <td>330911</td>\n",
       "      <td>7.8292</td>\n",
       "      <td>NaN</td>\n",
       "      <td>Q</td>\n",
       "    </tr>\n",
       "    <tr>\n",
       "      <th>1</th>\n",
       "      <td>893</td>\n",
       "      <td>3</td>\n",
       "      <td>Wilkes, Mrs. James (Ellen Needs)</td>\n",
       "      <td>female</td>\n",
       "      <td>47.0</td>\n",
       "      <td>1</td>\n",
       "      <td>0</td>\n",
       "      <td>363272</td>\n",
       "      <td>7.0000</td>\n",
       "      <td>NaN</td>\n",
       "      <td>S</td>\n",
       "    </tr>\n",
       "    <tr>\n",
       "      <th>2</th>\n",
       "      <td>894</td>\n",
       "      <td>2</td>\n",
       "      <td>Myles, Mr. Thomas Francis</td>\n",
       "      <td>male</td>\n",
       "      <td>62.0</td>\n",
       "      <td>0</td>\n",
       "      <td>0</td>\n",
       "      <td>240276</td>\n",
       "      <td>9.6875</td>\n",
       "      <td>NaN</td>\n",
       "      <td>Q</td>\n",
       "    </tr>\n",
       "    <tr>\n",
       "      <th>3</th>\n",
       "      <td>895</td>\n",
       "      <td>3</td>\n",
       "      <td>Wirz, Mr. Albert</td>\n",
       "      <td>male</td>\n",
       "      <td>27.0</td>\n",
       "      <td>0</td>\n",
       "      <td>0</td>\n",
       "      <td>315154</td>\n",
       "      <td>8.6625</td>\n",
       "      <td>NaN</td>\n",
       "      <td>S</td>\n",
       "    </tr>\n",
       "    <tr>\n",
       "      <th>4</th>\n",
       "      <td>896</td>\n",
       "      <td>3</td>\n",
       "      <td>Hirvonen, Mrs. Alexander (Helga E Lindqvist)</td>\n",
       "      <td>female</td>\n",
       "      <td>22.0</td>\n",
       "      <td>1</td>\n",
       "      <td>1</td>\n",
       "      <td>3101298</td>\n",
       "      <td>12.2875</td>\n",
       "      <td>NaN</td>\n",
       "      <td>S</td>\n",
       "    </tr>\n",
       "  </tbody>\n",
       "</table>\n",
       "</div>"
      ],
      "text/plain": [
       "   PassengerId  Pclass                                          Name     Sex  \\\n",
       "0          892       3                              Kelly, Mr. James    male   \n",
       "1          893       3              Wilkes, Mrs. James (Ellen Needs)  female   \n",
       "2          894       2                     Myles, Mr. Thomas Francis    male   \n",
       "3          895       3                              Wirz, Mr. Albert    male   \n",
       "4          896       3  Hirvonen, Mrs. Alexander (Helga E Lindqvist)  female   \n",
       "\n",
       "    Age  SibSp  Parch   Ticket     Fare Cabin Embarked  \n",
       "0  34.5      0      0   330911   7.8292   NaN        Q  \n",
       "1  47.0      1      0   363272   7.0000   NaN        S  \n",
       "2  62.0      0      0   240276   9.6875   NaN        Q  \n",
       "3  27.0      0      0   315154   8.6625   NaN        S  \n",
       "4  22.0      1      1  3101298  12.2875   NaN        S  "
      ]
     },
     "execution_count": 3,
     "metadata": {},
     "output_type": "execute_result"
    }
   ],
   "source": [
    "test_data=pd.read_csv(\"/kaggle/input/titanic/test.csv\")\n",
    "test_data.head()"
   ]
  },
  {
   "cell_type": "code",
   "execution_count": 4,
   "id": "ef06bc61",
   "metadata": {
    "execution": {
     "iopub.execute_input": "2025-03-24T20:34:49.905142Z",
     "iopub.status.busy": "2025-03-24T20:34:49.904829Z",
     "iopub.status.idle": "2025-03-24T20:34:49.915909Z",
     "shell.execute_reply": "2025-03-24T20:34:49.914900Z"
    },
    "papermill": {
     "duration": 0.018345,
     "end_time": "2025-03-24T20:34:49.917399",
     "exception": false,
     "start_time": "2025-03-24T20:34:49.899054",
     "status": "completed"
    },
    "tags": []
   },
   "outputs": [
    {
     "name": "stdout",
     "output_type": "stream",
     "text": [
      "% of women who survived: 0.7420382165605095\n"
     ]
    }
   ],
   "source": [
    "women = dset_learn.loc[dset_learn.Sex == 'female'][\"Survived\"]\n",
    "rate_women = sum(women)/len(women)\n",
    "\n",
    "print(\"% of women who survived:\", rate_women)\n"
   ]
  },
  {
   "cell_type": "code",
   "execution_count": 5,
   "id": "a9c27533",
   "metadata": {
    "execution": {
     "iopub.execute_input": "2025-03-24T20:34:49.928565Z",
     "iopub.status.busy": "2025-03-24T20:34:49.928253Z",
     "iopub.status.idle": "2025-03-24T20:34:49.934834Z",
     "shell.execute_reply": "2025-03-24T20:34:49.933821Z"
    },
    "papermill": {
     "duration": 0.013823,
     "end_time": "2025-03-24T20:34:49.936362",
     "exception": false,
     "start_time": "2025-03-24T20:34:49.922539",
     "status": "completed"
    },
    "tags": []
   },
   "outputs": [
    {
     "name": "stdout",
     "output_type": "stream",
     "text": [
      "% of Queenstown-embarked that lived: 0.38961038961038963\n"
     ]
    }
   ],
   "source": [
    "QueenstownSurv = dset_learn.loc[dset_learn.Embarked == 'Q'][\"Survived\"]\n",
    "rate_QS = sum(QueenstownSurv)/len(QueenstownSurv)\n",
    "\n",
    "print(\"% of Queenstown-embarked that lived:\", rate_QS)"
   ]
  },
  {
   "cell_type": "code",
   "execution_count": 6,
   "id": "1ba65374",
   "metadata": {
    "execution": {
     "iopub.execute_input": "2025-03-24T20:34:49.947648Z",
     "iopub.status.busy": "2025-03-24T20:34:49.947315Z",
     "iopub.status.idle": "2025-03-24T20:34:51.874944Z",
     "shell.execute_reply": "2025-03-24T20:34:51.873795Z"
    },
    "papermill": {
     "duration": 1.934882,
     "end_time": "2025-03-24T20:34:51.876394",
     "exception": false,
     "start_time": "2025-03-24T20:34:49.941512",
     "status": "completed"
    },
    "tags": []
   },
   "outputs": [
    {
     "name": "stdout",
     "output_type": "stream",
     "text": [
      "Your submission was successfully saved!\n"
     ]
    }
   ],
   "source": [
    "from sklearn.ensemble import RandomForestClassifier\n",
    "\n",
    "y = dset_learn[\"Survived\"]\n",
    "\n",
    "features = [\"Pclass\", \"Sex\", \"SibSp\", \"Parch\"]\n",
    "X = pd.get_dummies(dset_learn[features])\n",
    "X_test = pd.get_dummies(test_data[features])\n",
    "\n",
    "model = RandomForestClassifier(n_estimators=100, max_depth=5, random_state=1)\n",
    "model.fit(X, y)\n",
    "predictions = model.predict(X_test)\n",
    "\n",
    "output = pd.DataFrame({'PassengerId': test_data.PassengerId, 'Survived': predictions})\n",
    "output.to_csv('submission.csv', index=False)\n",
    "print(\"Your submission was successfully saved!\")\n"
   ]
  },
  {
   "cell_type": "code",
   "execution_count": 7,
   "id": "81af72d4",
   "metadata": {
    "execution": {
     "iopub.execute_input": "2025-03-24T20:34:51.888038Z",
     "iopub.status.busy": "2025-03-24T20:34:51.887662Z",
     "iopub.status.idle": "2025-03-24T20:34:54.617148Z",
     "shell.execute_reply": "2025-03-24T20:34:54.615935Z"
    },
    "papermill": {
     "duration": 2.737383,
     "end_time": "2025-03-24T20:34:54.619229",
     "exception": false,
     "start_time": "2025-03-24T20:34:51.881846",
     "status": "completed"
    },
    "tags": []
   },
   "outputs": [
    {
     "name": "stdout",
     "output_type": "stream",
     "text": [
      "[NbConvertApp] Converting notebook /kaggle/input/notebook-titanicrf/titanic-ml.ipynb to script\r\n",
      "[NbConvertApp] Writing 2743 bytes to /kaggle/working/.git/Titanic-RF.py\r\n",
      "Traceback (most recent call last):\r\n",
      "  File \"/usr/local/bin/jupyter-nbconvert\", line 10, in <module>\r\n",
      "    sys.exit(main())\r\n",
      "  File \"/usr/local/lib/python3.10/dist-packages/jupyter_core/application.py\", line 283, in launch_instance\r\n",
      "    super().launch_instance(argv=argv, **kwargs)\r\n",
      "  File \"/usr/local/lib/python3.10/dist-packages/traitlets/config/application.py\", line 992, in launch_instance\r\n",
      "    app.start()\r\n",
      "  File \"/usr/local/lib/python3.10/dist-packages/nbconvert/nbconvertapp.py\", line 369, in start\r\n",
      "    self.convert_notebooks()\r\n",
      "  File \"/usr/local/lib/python3.10/dist-packages/nbconvert/nbconvertapp.py\", line 541, in convert_notebooks\r\n",
      "    self.convert_single_notebook(notebook_filename)\r\n",
      "  File \"/usr/local/lib/python3.10/dist-packages/nbconvert/nbconvertapp.py\", line 507, in convert_single_notebook\r\n",
      "    write_results = self.write_single_notebook(output, resources)\r\n",
      "  File \"/usr/local/lib/python3.10/dist-packages/nbconvert/nbconvertapp.py\", line 467, in write_single_notebook\r\n",
      "    write_results = self.writer.write(\r\n",
      "  File \"/usr/local/lib/python3.10/dist-packages/nbconvert/writers/files.py\", line 128, in write\r\n",
      "    with io.open(dest, 'w', encoding='utf-8') as f:\r\n",
      "FileNotFoundError: [Errno 2] No such file or directory: '/kaggle/working/.git/Titanic-RF.py'\r\n"
     ]
    }
   ],
   "source": [
    "import shutil\n",
    "# Copy the current notebook file (assuming it's named \"notebook.ipynb\") to the output directory\n",
    "shutil.copyfile(\"/kaggle/input/notebook-titanicrf/titanic-ml.ipynb\", \"/kaggle/working/Titanic-ML_copy.ipynb\")\n",
    "!jupyter nbconvert --to script /kaggle/input/notebook-titanicrf/titanic-ml.ipynb --output /kaggle/working/.git/Titanic-RF"
   ]
  },
  {
   "cell_type": "code",
   "execution_count": 8,
   "id": "99ef4d1e",
   "metadata": {
    "execution": {
     "iopub.execute_input": "2025-03-24T20:34:54.631773Z",
     "iopub.status.busy": "2025-03-24T20:34:54.631349Z",
     "iopub.status.idle": "2025-03-24T20:34:54.757280Z",
     "shell.execute_reply": "2025-03-24T20:34:54.756175Z"
    },
    "papermill": {
     "duration": 0.134439,
     "end_time": "2025-03-24T20:34:54.759260",
     "exception": false,
     "start_time": "2025-03-24T20:34:54.624821",
     "status": "completed"
    },
    "tags": []
   },
   "outputs": [
    {
     "name": "stdout",
     "output_type": "stream",
     "text": [
      "fatal: not a git repository (or any parent up to mount point /kaggle)\r\n",
      "Stopping at filesystem boundary (GIT_DISCOVERY_ACROSS_FILESYSTEM not set).\r\n"
     ]
    }
   ],
   "source": [
    "!git status"
   ]
  },
  {
   "cell_type": "code",
   "execution_count": 9,
   "id": "db4d5daf",
   "metadata": {
    "execution": {
     "iopub.execute_input": "2025-03-24T20:34:54.772177Z",
     "iopub.status.busy": "2025-03-24T20:34:54.771785Z",
     "iopub.status.idle": "2025-03-24T20:34:55.140477Z",
     "shell.execute_reply": "2025-03-24T20:34:55.139234Z"
    },
    "papermill": {
     "duration": 0.377693,
     "end_time": "2025-03-24T20:34:55.142694",
     "exception": false,
     "start_time": "2025-03-24T20:34:54.765001",
     "status": "completed"
    },
    "tags": []
   },
   "outputs": [
    {
     "name": "stdout",
     "output_type": "stream",
     "text": [
      "fatal: not a git repository (or any parent up to mount point /kaggle)\r\n",
      "Stopping at filesystem boundary (GIT_DISCOVERY_ACROSS_FILESYSTEM not set).\r\n",
      "fatal: not a git repository (or any parent up to mount point /kaggle)\r\n",
      "Stopping at filesystem boundary (GIT_DISCOVERY_ACROSS_FILESYSTEM not set).\r\n",
      "fatal: not a git repository (or any parent up to mount point /kaggle)\r\n",
      "Stopping at filesystem boundary (GIT_DISCOVERY_ACROSS_FILESYSTEM not set).\r\n"
     ]
    }
   ],
   "source": [
    "!git add .\n",
    "!git commit -m \"Pushed from Kaggle\"\n",
    "\n",
    "!git push -u origin main"
   ]
  }
 ],
 "metadata": {
  "kaggle": {
   "accelerator": "none",
   "dataSources": [
    {
     "databundleVersionId": 26502,
     "sourceId": 3136,
     "sourceType": "competition"
    },
    {
     "datasetId": 6958538,
     "sourceId": 11153033,
     "sourceType": "datasetVersion"
    }
   ],
   "dockerImageVersionId": 30918,
   "isGpuEnabled": false,
   "isInternetEnabled": true,
   "language": "python",
   "sourceType": "notebook"
  },
  "kernelspec": {
   "display_name": "Python 3",
   "language": "python",
   "name": "python3"
  },
  "language_info": {
   "codemirror_mode": {
    "name": "ipython",
    "version": 3
   },
   "file_extension": ".py",
   "mimetype": "text/x-python",
   "name": "python",
   "nbconvert_exporter": "python",
   "pygments_lexer": "ipython3",
   "version": "3.10.12"
  },
  "papermill": {
   "default_parameters": {},
   "duration": 21.492809,
   "end_time": "2025-03-24T20:34:55.872606",
   "environment_variables": {},
   "exception": null,
   "input_path": "__notebook__.ipynb",
   "output_path": "__notebook__.ipynb",
   "parameters": {},
   "start_time": "2025-03-24T20:34:34.379797",
   "version": "2.6.0"
  }
 },
 "nbformat": 4,
 "nbformat_minor": 5
}
